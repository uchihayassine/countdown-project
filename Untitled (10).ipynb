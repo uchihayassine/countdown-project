{
 "cells": [
  {
   "cell_type": "code",
   "execution_count": 2,
   "id": "ed85b414",
   "metadata": {},
   "outputs": [
    {
     "name": "stdout",
     "output_type": "stream",
     "text": [
      "Enter the time in seconds: 4\n",
      "Fire in the hole\n"
     ]
    }
   ],
   "source": [
    "#countdown\n",
    "import time\n",
    "\n",
    "def countdown(t):\n",
    "\n",
    "    while t:\n",
    "        mins, secs = divmod(t, 60)\n",
    "        timer = '{:02d}:{:02d}'.format(mins, secs)\n",
    "        print(timer, end=\"\\r\")\n",
    "        time.sleep(1)\n",
    "        t -= 1\n",
    " \n",
    "    print('Fire in the hole')\n",
    "\n",
    "\n",
    "t = input(\"Enter the time in seconds: \")\n",
    "\n",
    "countdown(int(t))\n"
   ]
  }
 ],
 "metadata": {
  "kernelspec": {
   "display_name": "Python 3",
   "language": "python",
   "name": "python3"
  },
  "language_info": {
   "codemirror_mode": {
    "name": "ipython",
    "version": 3
   },
   "file_extension": ".py",
   "mimetype": "text/x-python",
   "name": "python",
   "nbconvert_exporter": "python",
   "pygments_lexer": "ipython3",
   "version": "3.8.8"
  }
 },
 "nbformat": 4,
 "nbformat_minor": 5
}
